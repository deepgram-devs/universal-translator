{
  "cells": [
    {
      "cell_type": "markdown",
      "source": [
        "# Transcribe and Translate any audio stream with Deepgram!\n",
        "\n",
        "**Make a copy of this notebook into your own drive, and follow the instructions below!** 🥳🥳🥳\n",
        "\n",
        "\n",
        "----------------------------\n",
        "\n",
        "# Get started:\n",
        "\n",
        "1) Copy this notebook (`File > Save a copy in Drive`) or download the .ipynb (`File > Download > Download as .ipynb`). \n",
        "\n",
        "2) Follow the instructions below!\n",
        "\n",
        "----------------------------\n",
        "# Instructions:\n",
        "Running the following cells will allow you to transcribe any audio stream you wish. The comments below point out the variables you can manipulate to modify your output.\n",
        "\n",
        "Also, this notebook comes with a video demo! Here: https://youtu.be/QNolzkohSh8\n",
        "\n",
        "And by the way, if you haven't yet signed up for Deepgram, check out this link: https://dpgr.am/streaming-notebook"
      ],
      "metadata": {
        "id": "VN53w-RMPxVK"
      }
    },
    {
      "cell_type": "markdown",
      "source": [
        "# Step 1: Dependencies\n",
        "\n",
        "Run this cell to download all necessary dependencies.\n",
        "\n",
        "Note: You can run a cell by clicking the play button on the left or by clicking on the cell and pressing `shift`+`ENTER` at the same time. (Or `shift` + `return` on Mac)."
      ],
      "metadata": {
        "id": "ytg278L-QhAr"
      }
    },
    {
      "cell_type": "code",
      "source": [
        "! pip install requests ffmpeg-python\n",
        "! pip install deepgram-sdk --upgrade\n",
        "! pip install googletrans==4.0.0rc1"
      ],
      "metadata": {
        "id": "tDNAqesZNFB4"
      },
      "execution_count": null,
      "outputs": []
    },
    {
      "cell_type": "markdown",
      "source": [
        "# Step 2: Live Transcription\n",
        "\n",
        "Run this cell to livestream audio from any source! By default, we are streaming from BBC radio:  'http://stream.live.vc.bbcmedia.co.uk/bbc_radio_fourlw_online_nonuk'\n",
        "\n",
        "Set the following variables as necessary:\n",
        "\n",
        "\n",
        "*   `DEEPGRAM_API_KEY` = Your personal Deepgram API key\n",
        "*   `URL` = The URL you wish to stream from. Again, we're streaming from BBC Radio by default, but if you wish to stream from another source just replace this URL.\n",
        "*  `PARAMS` = The starter code here should give you a well-punctuated English transcript. However, if you wish to change the language, use a different model, or modify the output, check out our docs to figure out the best parameter configuration for you: https://developers.deepgram.com/documentation/\n",
        "*  `TIME_LIMIT` = The number of seconds you wish to transcribe the livestream.Set this equal to `float(inf)` if you wish to stream forever. (Or at least until you wish to cut off the function manually.)\n",
        "*  `TRANSCRIPT_ONLY` = Set this variable to `True` if you wish only to see the words you're transcribing. Set it to `False` if you wish to see the full JSON responses (which include word-level timestamps, metadata, and confidence levels).\n",
        "\n",
        "To run the cell, click the play button or press `Shift`+`Enter` on your keyboard. (Or `Shift`+`return` if you're on Mac.)\n",
        "\n",
        "-------\n",
        "\n",
        "Note: if you're already a Deepgram user, and you're getting an error in this cell the most common issues are:\n",
        "\n",
        "1. You may need to update your installation of `deepgram-sdk`.\n",
        "2. You may need to check how many credits you have left in your Deepgram account.\n",
        "\n"
      ],
      "metadata": {
        "id": "QVbwf2_OrOkL"
      }
    },
    {
      "cell_type": "code",
      "source": [
        "from deepgram import Deepgram\n",
        "import asyncio\n",
        "import aiohttp\n",
        "import time\n",
        "import googletrans\n",
        "from googletrans import Translator\n",
        "\n",
        "translator = Translator()\n",
        "\n",
        "# Your personal API key\n",
        "DEEPGRAM_API_KEY = '🔑🔑🔑 Your API Key here! 🔑🔑🔑'\n",
        "\n",
        "# URL for the real-time streaming audio you would like to transcribe\n",
        "URL = 'http://stream.live.vc.bbcmedia.co.uk/bbc_radio_fourlw_online_nonuk'\n",
        "\n",
        "# Fill in these parameters to adjust the output as you wish!\n",
        "# See our docs for more info: https://developers.deepgram.com/documentation/ \n",
        "PARAMS = {\"punctuate\": True, \n",
        "          \"numerals\": True,\n",
        "          \"model\": \"general\", \n",
        "          \"language\": \"en-US\",\n",
        "          \"tier\": \"nova\" }\n",
        "\n",
        "# The number of *seconds* you wish to transcribe the livestream.\n",
        "# Set this equal to `float(inf)` if you wish to stream forever.\n",
        "# (Or at least until you wish to cut off the function manually.)\n",
        "TIME_LIMIT = 30\n",
        "\n",
        "# Set this variable to `True` if you wish only to \n",
        "# see the transcribed words, like closed captions. \n",
        "# Set it to `False` if you wish to see the raw JSON responses.\n",
        "TRANSCRIPT_ONLY = True\n",
        "\n",
        "'''\n",
        "Function object.\n",
        "\n",
        "Input: JSON data sent by a live transcription instance, which is named \n",
        "`deepgramLive` in main().\n",
        "\n",
        "Output: The trasnlated transcript obtained from the JSON object\n",
        "'''\n",
        "def print_translation(json_data):\n",
        "    try:\n",
        "      line = json_data['channel']['alternatives'][0]['transcript']\n",
        "      translation = translator.translate(line, src = 'en', dest = 'fr')\n",
        "      print(translation.text)\n",
        "    except KeyError:\n",
        "      print()\n",
        "\n",
        "async def main():\n",
        "    start = time.time()\n",
        "    # Initializes the Deepgram SDK\n",
        "    deepgram = Deepgram(DEEPGRAM_API_KEY)\n",
        "    # Create a websocket connection to Deepgram\n",
        "    try:\n",
        "        deepgramLive = await deepgram.transcription.live(PARAMS)\n",
        "    except Exception as e:\n",
        "        print(f'Could not open socket: {e}')\n",
        "        return\n",
        "\n",
        "    # Listen for the connection to close\n",
        "    deepgramLive.registerHandler(deepgramLive.event.CLOSE, \n",
        "                                 lambda _: print('✅ Transcription complete! Connection closed. ✅'))\n",
        "\n",
        "    # Listen for any transcripts received from Deepgram & write \n",
        "    # the translation to the console.\n",
        "\n",
        "    # Note: If you wish to print the transcription in its original language, change\n",
        "    # the parameter of the registerHandler call from `print_translation` to \n",
        "    # `print_transcript`.\n",
        "    if TRANSCRIPT_ONLY:\n",
        "        deepgramLive.registerHandler(deepgramLive.event.TRANSCRIPT_RECEIVED, \n",
        "                                  print_translation)\n",
        "    else:\n",
        "        deepgramLive.registerHandler(deepgramLive.event.TRANSCRIPT_RECEIVED, print)\n",
        "\n",
        "    # Listen for the connection to open and send streaming audio from the URL to Deepgram\n",
        "    async with aiohttp.ClientSession() as session:\n",
        "        async with session.get(URL) as audio:\n",
        "            while time.time() - start < TIME_LIMIT:\n",
        "                data = await audio.content.readany()\n",
        "                if data:\n",
        "                    deepgramLive.send(data)\n",
        "                else:\n",
        "                    break\n",
        "\n",
        "    # Indicate that we've finished sending data by sending the customary \n",
        "    # zero-byte message to the Deepgram streaming endpoint, and wait \n",
        "    # until we get back the final summary metadata object\n",
        "    await deepgramLive.finish()\n",
        "\n",
        "await main()"
      ],
      "metadata": {
        "id": "O2DS14FKll6q"
      },
      "execution_count": null,
      "outputs": []
    }
  ],
  "metadata": {
    "kernelspec": {
      "display_name": "Python 3.10.1 ('dg_plus_yt': venv)",
      "language": "python",
      "name": "python3"
    },
    "language_info": {
      "name": "python",
      "version": "3.10.1"
    },
    "orig_nbformat": 4,
    "vscode": {
      "interpreter": {
        "hash": "9ccb4f31e81b19d196bbac066caca5d222f2bb20938f55af05f3ca51e34eca69"
      }
    },
    "colab": {
      "provenance": []
    }
  },
  "nbformat": 4,
  "nbformat_minor": 0
}